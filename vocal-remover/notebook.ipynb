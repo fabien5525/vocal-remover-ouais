{
 "cells": [
  {
   "cell_type": "code",
   "execution_count": 1,
   "metadata": {},
   "outputs": [
    {
     "name": "stdout",
     "output_type": "stream",
     "text": [
      "Requirement already satisfied: pytube in e:\\documents\\dev\\ausaryu\\ouais\\.venv\\lib\\site-packages (15.0.0)\n",
      "Requirement already satisfied: pydub in e:\\documents\\dev\\ausaryu\\ouais\\.venv\\lib\\site-packages (0.25.1)\n",
      "Requirement already satisfied: ffmpeg-python in e:\\documents\\dev\\ausaryu\\ouais\\.venv\\lib\\site-packages (0.2.0)\n",
      "Requirement already satisfied: future in e:\\documents\\dev\\ausaryu\\ouais\\.venv\\lib\\site-packages (from ffmpeg-python) (0.18.3)\n",
      "Note: you may need to restart the kernel to use updated packages.\n",
      "Looking in indexes: https://download.pytorch.org/whl/cu118\n",
      "Requirement already satisfied: torch in e:\\documents\\dev\\ausaryu\\ouais\\.venv\\lib\\site-packages (2.0.1+cu118)\n",
      "Requirement already satisfied: torchvision in e:\\documents\\dev\\ausaryu\\ouais\\.venv\\lib\\site-packages (0.15.2+cu118)\n",
      "Requirement already satisfied: torchaudio in e:\\documents\\dev\\ausaryu\\ouais\\.venv\\lib\\site-packages (2.0.2+cu118)\n",
      "Requirement already satisfied: filelock in e:\\documents\\dev\\ausaryu\\ouais\\.venv\\lib\\site-packages (from torch) (3.9.0)\n",
      "Requirement already satisfied: typing-extensions in e:\\documents\\dev\\ausaryu\\ouais\\.venv\\lib\\site-packages (from torch) (4.4.0)\n",
      "Requirement already satisfied: sympy in e:\\documents\\dev\\ausaryu\\ouais\\.venv\\lib\\site-packages (from torch) (1.11.1)\n",
      "Requirement already satisfied: networkx in e:\\documents\\dev\\ausaryu\\ouais\\.venv\\lib\\site-packages (from torch) (3.0)\n",
      "Requirement already satisfied: jinja2 in e:\\documents\\dev\\ausaryu\\ouais\\.venv\\lib\\site-packages (from torch) (3.1.2)\n",
      "Requirement already satisfied: numpy in e:\\documents\\dev\\ausaryu\\ouais\\.venv\\lib\\site-packages (from torchvision) (1.24.1)\n",
      "Requirement already satisfied: requests in e:\\documents\\dev\\ausaryu\\ouais\\.venv\\lib\\site-packages (from torchvision) (2.28.1)\n",
      "Requirement already satisfied: pillow!=8.3.*,>=5.3.0 in e:\\documents\\dev\\ausaryu\\ouais\\.venv\\lib\\site-packages (from torchvision) (9.3.0)\n",
      "Requirement already satisfied: MarkupSafe>=2.0 in e:\\documents\\dev\\ausaryu\\ouais\\.venv\\lib\\site-packages (from jinja2->torch) (2.1.2)\n",
      "Requirement already satisfied: charset-normalizer<3,>=2 in e:\\documents\\dev\\ausaryu\\ouais\\.venv\\lib\\site-packages (from requests->torchvision) (2.1.1)\n",
      "Requirement already satisfied: idna<4,>=2.5 in e:\\documents\\dev\\ausaryu\\ouais\\.venv\\lib\\site-packages (from requests->torchvision) (3.4)\n",
      "Requirement already satisfied: urllib3<1.27,>=1.21.1 in e:\\documents\\dev\\ausaryu\\ouais\\.venv\\lib\\site-packages (from requests->torchvision) (1.26.13)\n",
      "Requirement already satisfied: certifi>=2017.4.17 in e:\\documents\\dev\\ausaryu\\ouais\\.venv\\lib\\site-packages (from requests->torchvision) (2022.12.7)\n",
      "Requirement already satisfied: mpmath>=0.19 in e:\\documents\\dev\\ausaryu\\ouais\\.venv\\lib\\site-packages (from sympy->torch) (1.2.1)\n",
      "Note: you may need to restart the kernel to use updated packages.\n",
      "Requirement already satisfied: librosa in e:\\documents\\dev\\ausaryu\\ouais\\.venv\\lib\\site-packages (0.10.1)\n",
      "Requirement already satisfied: soundfile in e:\\documents\\dev\\ausaryu\\ouais\\.venv\\lib\\site-packages (0.12.1)\n",
      "Requirement already satisfied: tqdm in e:\\documents\\dev\\ausaryu\\ouais\\.venv\\lib\\site-packages (4.66.1)\n",
      "Requirement already satisfied: opencv_python in e:\\documents\\dev\\ausaryu\\ouais\\.venv\\lib\\site-packages (4.8.0.76)\n",
      "Requirement already satisfied: audioread>=2.1.9 in e:\\documents\\dev\\ausaryu\\ouais\\.venv\\lib\\site-packages (from librosa) (3.0.0)\n",
      "Requirement already satisfied: numpy!=1.22.0,!=1.22.1,!=1.22.2,>=1.20.3 in e:\\documents\\dev\\ausaryu\\ouais\\.venv\\lib\\site-packages (from librosa) (1.24.1)\n",
      "Requirement already satisfied: scipy>=1.2.0 in e:\\documents\\dev\\ausaryu\\ouais\\.venv\\lib\\site-packages (from librosa) (1.11.2)\n",
      "Requirement already satisfied: scikit-learn>=0.20.0 in e:\\documents\\dev\\ausaryu\\ouais\\.venv\\lib\\site-packages (from librosa) (1.3.0)\n",
      "Requirement already satisfied: joblib>=0.14 in e:\\documents\\dev\\ausaryu\\ouais\\.venv\\lib\\site-packages (from librosa) (1.3.2)\n",
      "Requirement already satisfied: decorator>=4.3.0 in e:\\documents\\dev\\ausaryu\\ouais\\.venv\\lib\\site-packages (from librosa) (5.1.1)\n",
      "Requirement already satisfied: numba>=0.51.0 in e:\\documents\\dev\\ausaryu\\ouais\\.venv\\lib\\site-packages (from librosa) (0.57.1)\n",
      "Requirement already satisfied: pooch>=1.0 in e:\\documents\\dev\\ausaryu\\ouais\\.venv\\lib\\site-packages (from librosa) (1.7.0)\n",
      "Requirement already satisfied: soxr>=0.3.2 in e:\\documents\\dev\\ausaryu\\ouais\\.venv\\lib\\site-packages (from librosa) (0.3.6)\n",
      "Requirement already satisfied: typing-extensions>=4.1.1 in e:\\documents\\dev\\ausaryu\\ouais\\.venv\\lib\\site-packages (from librosa) (4.4.0)\n",
      "Requirement already satisfied: lazy-loader>=0.1 in e:\\documents\\dev\\ausaryu\\ouais\\.venv\\lib\\site-packages (from librosa) (0.3)\n",
      "Requirement already satisfied: msgpack>=1.0 in e:\\documents\\dev\\ausaryu\\ouais\\.venv\\lib\\site-packages (from librosa) (1.0.5)\n",
      "Requirement already satisfied: cffi>=1.0 in e:\\documents\\dev\\ausaryu\\ouais\\.venv\\lib\\site-packages (from soundfile) (1.15.1)\n",
      "Requirement already satisfied: colorama in e:\\documents\\dev\\ausaryu\\ouais\\.venv\\lib\\site-packages (from tqdm) (0.4.6)\n",
      "Requirement already satisfied: pycparser in e:\\documents\\dev\\ausaryu\\ouais\\.venv\\lib\\site-packages (from cffi>=1.0->soundfile) (2.21)\n",
      "Requirement already satisfied: llvmlite<0.41,>=0.40.0dev0 in e:\\documents\\dev\\ausaryu\\ouais\\.venv\\lib\\site-packages (from numba>=0.51.0->librosa) (0.40.1)\n",
      "Requirement already satisfied: platformdirs>=2.5.0 in e:\\documents\\dev\\ausaryu\\ouais\\.venv\\lib\\site-packages (from pooch>=1.0->librosa) (3.10.0)\n",
      "Requirement already satisfied: packaging>=20.0 in e:\\documents\\dev\\ausaryu\\ouais\\.venv\\lib\\site-packages (from pooch>=1.0->librosa) (23.1)\n",
      "Requirement already satisfied: requests>=2.19.0 in e:\\documents\\dev\\ausaryu\\ouais\\.venv\\lib\\site-packages (from pooch>=1.0->librosa) (2.28.1)\n",
      "Requirement already satisfied: threadpoolctl>=2.0.0 in e:\\documents\\dev\\ausaryu\\ouais\\.venv\\lib\\site-packages (from scikit-learn>=0.20.0->librosa) (3.2.0)\n",
      "Requirement already satisfied: charset-normalizer<3,>=2 in e:\\documents\\dev\\ausaryu\\ouais\\.venv\\lib\\site-packages (from requests>=2.19.0->pooch>=1.0->librosa) (2.1.1)\n",
      "Requirement already satisfied: idna<4,>=2.5 in e:\\documents\\dev\\ausaryu\\ouais\\.venv\\lib\\site-packages (from requests>=2.19.0->pooch>=1.0->librosa) (3.4)\n",
      "Requirement already satisfied: urllib3<1.27,>=1.21.1 in e:\\documents\\dev\\ausaryu\\ouais\\.venv\\lib\\site-packages (from requests>=2.19.0->pooch>=1.0->librosa) (1.26.13)\n",
      "Requirement already satisfied: certifi>=2017.4.17 in e:\\documents\\dev\\ausaryu\\ouais\\.venv\\lib\\site-packages (from requests>=2.19.0->pooch>=1.0->librosa) (2022.12.7)\n",
      "Note: you may need to restart the kernel to use updated packages.\n"
     ]
    }
   ],
   "source": [
    "%pip install pytube pydub ffmpeg-python\n",
    "%pip install torch torchvision torchaudio --index-url https://download.pytorch.org/whl/cu118\n",
    "%pip install librosa soundfile tqdm opencv_python"
   ]
  },
  {
   "cell_type": "code",
   "execution_count": 36,
   "metadata": {},
   "outputs": [
    {
     "name": "stdout",
     "output_type": "stream",
     "text": [
      "True\n",
      "1\n",
      "0\n",
      "NVIDIA GeForce RTX 2070 SUPER\n"
     ]
    }
   ],
   "source": [
    "import torch\n",
    "print(torch.cuda.is_available())\n",
    "print(torch.cuda.device_count())\n",
    "print(torch.cuda.current_device())\n",
    "print( torch.cuda.get_device_name(0))"
   ]
  },
  {
   "cell_type": "code",
   "execution_count": 2,
   "metadata": {},
   "outputs": [],
   "source": [
    "musicURL = \"https://www.youtube.com/watch?v=ZRtdQ81jPUQ&ab_channel=Ayase%2FYOASOBI\"\n",
    "musicFolder = \"./musics/\"\n",
    "instrumentalFolder = \"./instrumentals/\""
   ]
  },
  {
   "cell_type": "code",
   "execution_count": 3,
   "metadata": {},
   "outputs": [
    {
     "name": "stdout",
     "output_type": "stream",
     "text": [
      "Téléchargement de la vidéo : Idol...\n"
     ]
    },
    {
     "data": {
      "text/plain": [
       "(None, None)"
      ]
     },
     "execution_count": 3,
     "metadata": {},
     "output_type": "execute_result"
    }
   ],
   "source": [
    "from pytube import YouTube\n",
    "import ffmpeg\n",
    "\n",
    "yt = YouTube(musicURL)\n",
    "\n",
    "audio_stream = yt.streams.filter(only_audio=True, file_extension='mp4').first()\n",
    "\n",
    "# Téléchargez la vidéo\n",
    "print(f'Téléchargement de la vidéo : {yt.title}...')\n",
    "audio_stream.download(output_path=musicFolder)\n",
    "\n",
    "# Convertissez la vidéo en MP3 à l'aide de FFmpeg\n",
    "input_file = f'{musicFolder}{yt.title}.mp4'\n",
    "output_file = f'{musicFolder}{yt.title}.mp3'\n",
    "\n",
    "ffmpeg.input(input_file).output(output_file).run()"
   ]
  },
  {
   "cell_type": "code",
   "execution_count": 11,
   "metadata": {},
   "outputs": [
    {
     "name": "stdout",
     "output_type": "stream",
     "text": [
      "['./musics\\\\Idol.mp3']\n",
      "py interference.py --input \"./musics\\Idol.mp3\" --output_dir \"./instrumentals/\" --tta --gpu 0\n"
     ]
    }
   ],
   "source": [
    "import glob\n",
    "import os\n",
    "\n",
    "# create an array that regroup all mp3 file in musicFolder that are not in instrumentalFolder\n",
    "musicToProcess = [music for music in glob.glob(musicFolder + \"*.mp3\") if music not in glob.glob(instrumentalFolder + \"*.wav\")]\n",
    "print(musicToProcess)\n",
    "\n",
    "commandToConvert = \"py interference.py --input \\\"[musicToProcess]\\\" --output_dir \\\"\" + instrumentalFolder + \"\\\" --tta --gpu 0\"\n",
    "for music in musicToProcess:\n",
    "    cmd = commandToConvert.replace(\"[musicToProcess]\", music)\n",
    "    print(cmd)\n",
    "    os.system(cmd)"
   ]
  }
 ],
 "metadata": {
  "kernelspec": {
   "display_name": "Python 3",
   "language": "python",
   "name": "python3"
  },
  "language_info": {
   "codemirror_mode": {
    "name": "ipython",
    "version": 3
   },
   "file_extension": ".py",
   "mimetype": "text/x-python",
   "name": "python",
   "nbconvert_exporter": "python",
   "pygments_lexer": "ipython3",
   "version": "3.10.10"
  },
  "orig_nbformat": 4
 },
 "nbformat": 4,
 "nbformat_minor": 2
}
